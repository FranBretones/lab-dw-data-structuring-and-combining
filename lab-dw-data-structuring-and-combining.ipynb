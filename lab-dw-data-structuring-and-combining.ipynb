{
 "cells": [
  {
   "cell_type": "markdown",
   "id": "25d7736c-ba17-4aff-b6bb-66eba20fbf4e",
   "metadata": {
    "id": "25d7736c-ba17-4aff-b6bb-66eba20fbf4e"
   },
   "source": [
    "# Lab | Data Structuring and Combining Data"
   ]
  },
  {
   "cell_type": "markdown",
   "id": "a2cdfc70-44c8-478c-81e7-2bc43fdf4986",
   "metadata": {
    "id": "a2cdfc70-44c8-478c-81e7-2bc43fdf4986"
   },
   "source": [
    "## Challenge 1: Combining & Cleaning Data\n",
    "\n",
    "In this challenge, we will be working with the customer data from an insurance company, as we did in the two previous labs. The data can be found here:\n",
    "- https://raw.githubusercontent.com/data-bootcamp-v4/data/main/file1.csv\n",
    "\n",
    "But this time, we got new data, which can be found in the following 2 CSV files located at the links below.\n",
    "\n",
    "- https://raw.githubusercontent.com/data-bootcamp-v4/data/main/file2.csv\n",
    "- https://raw.githubusercontent.com/data-bootcamp-v4/data/main/file3.csv\n",
    "\n",
    "Note that you'll need to clean and format the new data.\n",
    "\n",
    "Observation:\n",
    "- One option is to first combine the three datasets and then apply the cleaning function to the new combined dataset\n",
    "- Another option would be to read the clean file you saved in the previous lab, and just clean the two new files and concatenate the three clean datasets"
   ]
  },
  {
   "cell_type": "code",
   "execution_count": 1,
   "id": "492d06e3-92c7-4105-ac72-536db98d3244",
   "metadata": {
    "id": "492d06e3-92c7-4105-ac72-536db98d3244"
   },
   "outputs": [],
   "source": [
    "#setting up the three url variables\n",
    "url_1= 'https://raw.githubusercontent.com/data-bootcamp-v4/data/main/file1.csv'\n",
    "url_2= 'https://raw.githubusercontent.com/data-bootcamp-v4/data/main/file2.csv'\n",
    "url_3= 'https://raw.githubusercontent.com/data-bootcamp-v4/data/main/file3.csv'\n",
    "#set up the three dataframes\n",
    "import pandas as pd\n",
    "df1 = pd.read_csv(url_1)\n",
    "df2 = pd.read_csv(url_2)\n",
    "df3 = pd.read_csv(url_3)\n"
   ]
  },
  {
   "cell_type": "code",
   "execution_count": 3,
   "id": "94d7c931",
   "metadata": {},
   "outputs": [
    {
     "name": "stdout",
     "output_type": "stream",
     "text": [
      "Limpieza completada:\n",
      "• Nulos rellenados: 32427\n",
      "• Columnas categóricas rellenadas: ['customer', 'state', 'gender', 'education', 'customer_lifetime_value', 'number_of_open_complaints', 'policy_type', 'vehicle_class']\n",
      "• Columnas numéricas rellenadas: ['income', 'monthly_premium_auto', 'total_claim_amount']\n",
      "• Columnas estandarizadas: ['gender', 'state', 'education', 'vehicle_class']\n",
      "• Transformación en 'number_of_open_complaints': True\n",
      "• Duplicados eliminados: 2936\n",
      "Limpieza completada:\n",
      "• Nulos rellenados: 9\n",
      "• Columnas categóricas rellenadas: ['gender', 'customer_lifetime_value']\n",
      "• Columnas numéricas rellenadas: []\n",
      "• Columnas estandarizadas: ['gender', 'state', 'education', 'vehicle_class']\n",
      "• Transformación en 'number_of_open_complaints': True\n",
      "• Duplicados eliminados: 0\n",
      "Limpieza completada:\n",
      "• Nulos rellenados: 0\n",
      "• Columnas categóricas rellenadas: []\n",
      "• Columnas numéricas rellenadas: []\n",
      "• Columnas estandarizadas: ['gender', 'state', 'education', 'vehicle_class']\n",
      "• Transformación en 'number_of_open_complaints': True\n",
      "• Duplicados eliminados: 0\n"
     ]
    }
   ],
   "source": [
    "from cleaning_function import clean_dataframe\n",
    "#clean the dataframes\n",
    "df1_clean = clean_dataframe(df1)\n",
    "df2_clean = clean_dataframe(df2)\n",
    "df3_clean = clean_dataframe(df3)\n",
    "#concat the dataframes\n",
    "df = pd.concat([df1_clean, df2_clean, df3_clean], ignore_index=True)\n",
    "#save the dataframe to a csv file\n",
    "df.to_csv('combined.csv', index=False)\n",
    "\n"
   ]
  },
  {
   "cell_type": "code",
   "execution_count": null,
   "id": "72046e6c",
   "metadata": {},
   "outputs": [
    {
     "data": {
      "text/plain": [
       "Index(['customer', 'state', 'gender', 'education', 'customer_lifetime_value',\n",
       "       'income', 'monthly_premium_auto', 'number_of_open_complaints',\n",
       "       'policy_type', 'vehicle_class', 'total_claim_amount'],\n",
       "      dtype='object')"
      ]
     },
     "execution_count": 9,
     "metadata": {},
     "output_type": "execute_result"
    }
   ],
   "source": [
    "df_combined = pd.read_csv('combined.csv')"
   ]
  },
  {
   "cell_type": "markdown",
   "id": "31b8a9e7-7db9-4604-991b-ef6771603e57",
   "metadata": {
    "id": "31b8a9e7-7db9-4604-991b-ef6771603e57"
   },
   "source": [
    "# Challenge 2: Structuring Data"
   ]
  },
  {
   "cell_type": "markdown",
   "id": "a877fd6d-7a0c-46d2-9657-f25036e4ca4b",
   "metadata": {
    "id": "a877fd6d-7a0c-46d2-9657-f25036e4ca4b"
   },
   "source": [
    "In this challenge, we will continue to work with customer data from an insurance company, but we will use a dataset with more columns, called marketing_customer_analysis.csv, which can be found at the following link:\n",
    "\n",
    "https://raw.githubusercontent.com/data-bootcamp-v4/data/main/marketing_customer_analysis_clean.csv\n",
    "\n",
    "This dataset contains information such as customer demographics, policy details, vehicle information, and the customer's response to the last marketing campaign. Our goal is to explore and analyze this data by performing data cleaning, formatting, and structuring."
   ]
  },
  {
   "cell_type": "code",
   "execution_count": 15,
   "id": "aa10d9b0-1c27-4d3f-a8e4-db6ab73bfd26",
   "metadata": {
    "id": "aa10d9b0-1c27-4d3f-a8e4-db6ab73bfd26"
   },
   "outputs": [],
   "source": [
    "# Your code goes here\n",
    "url_4 = 'https://raw.githubusercontent.com/data-bootcamp-v4/data/main/marketing_customer_analysis_clean.csv'"
   ]
  },
  {
   "cell_type": "code",
   "execution_count": 16,
   "id": "e307490f",
   "metadata": {},
   "outputs": [
    {
     "data": {
      "text/plain": [
       "Index(['unnamed:_0', 'customer', 'state', 'customer_lifetime_value',\n",
       "       'response', 'coverage', 'education', 'effective_to_date',\n",
       "       'employmentstatus', 'gender', 'income', 'location_code',\n",
       "       'marital_status', 'monthly_premium_auto', 'months_since_last_claim',\n",
       "       'months_since_policy_inception', 'number_of_open_complaints',\n",
       "       'number_of_policies', 'policy_type', 'policy', 'renew_offer_type',\n",
       "       'sales_channel', 'total_claim_amount', 'vehicle_class', 'vehicle_size',\n",
       "       'vehicle_type', 'month'],\n",
       "      dtype='object')"
      ]
     },
     "execution_count": 16,
     "metadata": {},
     "output_type": "execute_result"
    }
   ],
   "source": [
    "df4 = pd.read_csv(url_4)\n",
    "df4.columns"
   ]
  },
  {
   "cell_type": "markdown",
   "id": "df35fd0d-513e-4e77-867e-429da10a9cc7",
   "metadata": {
    "id": "df35fd0d-513e-4e77-867e-429da10a9cc7"
   },
   "source": [
    "1. You work at the marketing department and you want to know which sales channel brought the most sales in terms of total revenue. Using pivot, create a summary table showing the total revenue for each sales channel (branch, call center, web, and mail).\n",
    "Round the total revenue to 2 decimal points.  Analyze the resulting table to draw insights."
   ]
  },
  {
   "cell_type": "code",
   "execution_count": 19,
   "id": "cde1ed30",
   "metadata": {},
   "outputs": [
    {
     "name": "stdout",
     "output_type": "stream",
     "text": [
      "Total revenue by channel:\n",
      "  sales_channel  total_claim_amount\n",
      "0         Agent          1810226.82\n",
      "1        Branch          1301204.00\n",
      "2   Call Center           926600.82\n",
      "3           Web           706600.04\n"
     ]
    }
   ],
   "source": [
    "revenue_by_channel = df4.pivot_table(\n",
    "    index='sales_channel',\n",
    "    values='total_claim_amount', \n",
    "    aggfunc='sum'\n",
    "    ).round(2).reset_index()\n",
    "\n",
    "revenue_by_channel = revenue_by_channel.sort_values(by='total_claim_amount', ascending=False)\n",
    "print('Total revenue by channel:')\n",
    "print(revenue_by_channel)\n"
   ]
  },
  {
   "cell_type": "markdown",
   "id": "640993b2-a291-436c-a34d-a551144f8196",
   "metadata": {
    "id": "640993b2-a291-436c-a34d-a551144f8196"
   },
   "source": [
    "2. Create a pivot table that shows the average customer lifetime value per gender and education level. Analyze the resulting table to draw insights."
   ]
  },
  {
   "cell_type": "code",
   "execution_count": 27,
   "id": "28ce43c1",
   "metadata": {},
   "outputs": [
    {
     "name": "stdout",
     "output_type": "stream",
     "text": [
      "Average Customer lifetime value by gender and education:\n",
      "\n",
      "education  Bachelor  College   Doctor  High School or Below   Master\n",
      "gender                                                              \n",
      "F           7874.27  7748.82  7328.51               8675.22  8157.05\n",
      "M           7703.60  8052.46  7415.33               8149.69  8168.83\n"
     ]
    }
   ],
   "source": [
    "clv_by_gender_education = df4.pivot_table(\n",
    "    index='gender',\n",
    "    columns='education',\n",
    "    values='customer_lifetime_value',\n",
    "    aggfunc='mean'\n",
    "    ).round(2)\n",
    "\n",
    "print('Average Customer lifetime value by gender and education:\\n')\n",
    "print(clv_by_gender_education)"
   ]
  },
  {
   "cell_type": "markdown",
   "id": "32c7f2e5-3d90-43e5-be33-9781b6069198",
   "metadata": {
    "id": "32c7f2e5-3d90-43e5-be33-9781b6069198"
   },
   "source": [
    "## Bonus\n",
    "\n",
    "You work at the customer service department and you want to know which months had the highest number of complaints by policy type category. Create a summary table showing the number of complaints by policy type and month.\n",
    "Show it in a long format table."
   ]
  },
  {
   "cell_type": "markdown",
   "id": "e3d09a8f-953c-448a-a5f8-2e5a8cca7291",
   "metadata": {
    "id": "e3d09a8f-953c-448a-a5f8-2e5a8cca7291"
   },
   "source": [
    "*In data analysis, a long format table is a way of structuring data in which each observation or measurement is stored in a separate row of the table. The key characteristic of a long format table is that each column represents a single variable, and each row represents a single observation of that variable.*\n",
    "\n",
    "*More information about long and wide format tables here: https://www.statology.org/long-vs-wide-data/*"
   ]
  },
  {
   "cell_type": "code",
   "execution_count": null,
   "id": "3a069e0b-b400-470e-904d-d17582191be4",
   "metadata": {
    "id": "3a069e0b-b400-470e-904d-d17582191be4"
   },
   "outputs": [
    {
     "data": {
      "text/plain": [
       "Index(['unnamed:_0', 'customer', 'state', 'customer_lifetime_value',\n",
       "       'response', 'coverage', 'education', 'effective_to_date',\n",
       "       'employmentstatus', 'gender', 'income', 'location_code',\n",
       "       'marital_status', 'monthly_premium_auto', 'months_since_last_claim',\n",
       "       'months_since_policy_inception', 'number_of_open_complaints',\n",
       "       'number_of_policies', 'policy_type', 'policy', 'renew_offer_type',\n",
       "       'sales_channel', 'total_claim_amount', 'vehicle_class', 'vehicle_size',\n",
       "       'vehicle_type', 'month'],\n",
       "      dtype='object')"
      ]
     },
     "execution_count": 12,
     "metadata": {},
     "output_type": "execute_result"
    }
   ],
   "source": [
    "# Your code goes here\n",
    "url_4 = 'https://raw.githubusercontent.com/data-bootcamp-v4/data/main/marketing_customer_analysis_clean.csv'\n",
    "import pandas as pd\n",
    "df4 = pd.read_csv(url_4)\n",
    "df4.columns\n",
    "\n",
    "\n"
   ]
  },
  {
   "cell_type": "code",
   "execution_count": 23,
   "id": "2c50aec1",
   "metadata": {},
   "outputs": [
    {
     "name": "stdout",
     "output_type": "stream",
     "text": [
      "Number of complaints by policy type and month:\n",
      "\n",
      "month        policy       1       2\n",
      "0      Corporate L1   75.00   78.31\n",
      "1      Corporate L2  121.53   95.38\n",
      "2      Corporate L3  246.91  211.52\n",
      "3       Personal L1  302.06  222.91\n",
      "4       Personal L2  583.67  468.29\n",
      "5       Personal L3  841.88  762.49\n",
      "6        Special L1   11.77   22.77\n",
      "7        Special L2   44.54   32.31\n",
      "8        Special L3   30.77   40.15\n"
     ]
    }
   ],
   "source": [
    "#which months had the highest number of complaints by policy type category. Create a summary table showing the number of complaints by policy type and month.\n",
    "# Show it in a long format table.\n",
    "\n",
    "#first we make the pivot table with the number of open complaints by policy type and month\n",
    "complaints_by_policy_month = df4.pivot_table(\n",
    "    index= 'policy', \n",
    "    columns ='month',\n",
    "    values='number_of_open_complaints',\n",
    "    aggfunc='sum'\n",
    ").reset_index().round(2)\n",
    "\n",
    "print('Number of complaints by policy type and month:\\n')\n",
    "print(complaints_by_policy_month)"
   ]
  },
  {
   "cell_type": "code",
   "execution_count": 24,
   "id": "0ef45acc",
   "metadata": {},
   "outputs": [
    {
     "name": "stdout",
     "output_type": "stream",
     "text": [
      "Number of complaints by policy type and month in long format:\n",
      "\n",
      "          policy month  number_of_open_complaints\n",
      "5    Personal L3     1                     841.88\n",
      "14   Personal L3     2                     762.49\n",
      "4    Personal L2     1                     583.67\n",
      "13   Personal L2     2                     468.29\n",
      "3    Personal L1     1                     302.06\n",
      "2   Corporate L3     1                     246.91\n",
      "12   Personal L1     2                     222.91\n",
      "11  Corporate L3     2                     211.52\n",
      "1   Corporate L2     1                     121.53\n",
      "10  Corporate L2     2                      95.38\n",
      "9   Corporate L1     2                      78.31\n",
      "0   Corporate L1     1                      75.00\n",
      "7     Special L2     1                      44.54\n",
      "17    Special L3     2                      40.15\n",
      "16    Special L2     2                      32.31\n",
      "8     Special L3     1                      30.77\n",
      "15    Special L1     2                      22.77\n",
      "6     Special L1     1                      11.77\n"
     ]
    }
   ],
   "source": [
    "#transform to long format\n",
    "complaints_by_policy_monnth_long= pd.melt(\n",
    "    complaints_by_policy_month,\n",
    "    id_vars='policy',\n",
    "    var_name='month',\n",
    "    value_name='number_of_open_complaints'\n",
    ").sort_values(by='number_of_open_complaints', ascending=False)\n",
    "print('Number of complaints by policy type and month in long format:\\n')\n",
    "print(complaints_by_policy_monnth_long)\n",
    "\n"
   ]
  },
  {
   "cell_type": "code",
   "execution_count": null,
   "id": "35d3a81c",
   "metadata": {},
   "outputs": [],
   "source": []
  }
 ],
 "metadata": {
  "colab": {
   "provenance": []
  },
  "kernelspec": {
   "display_name": "venv",
   "language": "python",
   "name": "python3"
  },
  "language_info": {
   "codemirror_mode": {
    "name": "ipython",
    "version": 3
   },
   "file_extension": ".py",
   "mimetype": "text/x-python",
   "name": "python",
   "nbconvert_exporter": "python",
   "pygments_lexer": "ipython3",
   "version": "3.12.1"
  }
 },
 "nbformat": 4,
 "nbformat_minor": 5
}
